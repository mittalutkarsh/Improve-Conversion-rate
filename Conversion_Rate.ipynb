{
 "cells": [
  {
   "cell_type": "code",
   "execution_count": 1,
   "metadata": {},
   "outputs": [],
   "source": [
    "# The goal is to come up with recommendations for the product and the marketing teams to improve conversion rate\n",
    "# We have features like country, marketing channel, age, repeat users, and the number of pages visited during that session\n"
   ]
  },
  {
   "cell_type": "code",
   "execution_count": 57,
   "metadata": {},
   "outputs": [],
   "source": [
    "import pandas\n",
    "pandas.set_option('display.max_columns', 10)\n",
    "pandas.set_option('display.width', 350)\n",
    "  \n",
    "#read from google drive\n",
    "data = pandas.read_csv(\"C://Users//umittal//Desktop//Data_masked_Conversion//Conversion Project//conversion_project.csv\")"
   ]
  },
  {
   "cell_type": "code",
   "execution_count": 58,
   "metadata": {},
   "outputs": [
    {
     "name": "stdout",
     "output_type": "stream",
     "text": [
      "  country  age  new_user source  total_pages_visited  converted\n",
      "0      UK   25         1    Ads                    1          0\n",
      "1      US   23         1    Seo                    5          0\n",
      "2      US   28         1    Seo                    4          0\n",
      "3   China   39         1    Seo                    5          0\n",
      "4      US   30         1    Seo                    6          0\n"
     ]
    }
   ],
   "source": [
    "print (data.head())"
   ]
  },
  {
   "cell_type": "code",
   "execution_count": 59,
   "metadata": {},
   "outputs": [],
   "source": [
    "#country : user country based on the IP address\n",
    "#age : user age. Self-reported at sign-up step\n",
    "# new_user : whether the user created the account during this session or had already an account and simply came back to the site\n",
    "\n",
    "# source : marketing channel source\n",
    "  #Ads: came to the site by clicking on an advertisement\n",
    "  #Seo: came to the site by clicking on search results\n",
    "  #Direct: came to the site by directly typing the URL on the browser\n",
    "\n",
    "#total_pages_visited: number of total pages visited during the session. This can be seen as a proxy for time spent on site and engagement\n",
    "#converted: 1 means they converted within the session, 0 means they left without buying anything. The company goal is to increase conversion rate: # conversions / total sessions\n",
    "\n"
   ]
  },
  {
   "cell_type": "code",
   "execution_count": 60,
   "metadata": {},
   "outputs": [
    {
     "name": "stdout",
     "output_type": "stream",
     "text": [
      "                 age       new_user  total_pages_visited      converted\n",
      "count  316200.000000  316200.000000        316200.000000  316200.000000\n",
      "mean       30.569858       0.685465             4.872966       0.032258\n",
      "std         8.271802       0.464331             3.341104       0.176685\n",
      "min        17.000000       0.000000             1.000000       0.000000\n",
      "25%        24.000000       0.000000             2.000000       0.000000\n",
      "50%        30.000000       1.000000             4.000000       0.000000\n",
      "75%        36.000000       1.000000             7.000000       0.000000\n",
      "max       123.000000       1.000000            29.000000       1.000000\n"
     ]
    }
   ],
   "source": [
    "# let’s inspect the data to look for weird behavior/wrong data\n",
    "print(data.describe())"
   ]
  },
  {
   "cell_type": "code",
   "execution_count": 61,
   "metadata": {},
   "outputs": [],
   "source": [
    "# mean age is 30 and 75% percentile is 36 -> user base is pretty young\n",
    "# Conversion rate is ~ 3% -> industry standards\n",
    "# max age 123 yrs looks abnormal. WIll investigate this."
   ]
  },
  {
   "cell_type": "code",
   "execution_count": 62,
   "metadata": {},
   "outputs": [
    {
     "name": "stdout",
     "output_type": "stream",
     "text": [
      "country\n",
      "China       76602\n",
      "Germany     13056\n",
      "UK          48450\n",
      "US         178092\n",
      "dtype: int64\n"
     ]
    }
   ],
   "source": [
    "print(data.groupby(['country']).size())"
   ]
  },
  {
   "cell_type": "code",
   "execution_count": 63,
   "metadata": {},
   "outputs": [],
   "source": [
    "# Site is probably a US site, although it does have a large Chinese user base as well\n"
   ]
  },
  {
   "cell_type": "code",
   "execution_count": 64,
   "metadata": {},
   "outputs": [
    {
     "name": "stdout",
     "output_type": "stream",
     "text": [
      "source\n",
      "Ads        88740\n",
      "Direct     72420\n",
      "Seo       155040\n",
      "dtype: int64\n"
     ]
    }
   ],
   "source": [
    "print(data.groupby(['source']).size())"
   ]
  },
  {
   "cell_type": "code",
   "execution_count": 65,
   "metadata": {},
   "outputs": [
    {
     "name": "stdout",
     "output_type": "stream",
     "text": [
      "[123, 111, 79, 77, 73, 72, 70, 69, 68, 67, 66, 65, 64, 63, 62, 61, 60, 59, 58, 57, 56, 55, 54, 53, 52, 51, 50, 49, 48, 47, 46, 45, 44, 43, 42, 41, 40, 39, 38, 37, 36, 35, 34, 33, 32, 31, 30, 29, 28, 27, 26, 25, 24, 23, 22, 21, 20, 19, 18, 17]\n"
     ]
    }
   ],
   "source": [
    "\n",
    "# Investigate the age column\n",
    "print(sorted(data['age'].unique(), reverse=True))"
   ]
  },
  {
   "cell_type": "code",
   "execution_count": 66,
   "metadata": {},
   "outputs": [
    {
     "name": "stdout",
     "output_type": "stream",
     "text": [
      "age\n",
      "17      7597\n",
      "18      8466\n",
      "19      9349\n",
      "20     10156\n",
      "21     10966\n",
      "22     11701\n",
      "23     12336\n",
      "24     12960\n",
      "25     13460\n",
      "26     13931\n",
      "27     14084\n",
      "28     14341\n",
      "29     14158\n",
      "30     14346\n",
      "31     13692\n",
      "32     13507\n",
      "33     12631\n",
      "34     12108\n",
      "35     11471\n",
      "36     10779\n",
      "37      9761\n",
      "38      8970\n",
      "39      8202\n",
      "40      7148\n",
      "41      6401\n",
      "42      5588\n",
      "43      4904\n",
      "44      4224\n",
      "45      3634\n",
      "46      2994\n",
      "47      2504\n",
      "48      2121\n",
      "49      1629\n",
      "50      1356\n",
      "51      1093\n",
      "52       935\n",
      "53       627\n",
      "54       520\n",
      "55       394\n",
      "56       286\n",
      "57       247\n",
      "58       165\n",
      "59       127\n",
      "60        94\n",
      "61        71\n",
      "62        59\n",
      "63        35\n",
      "64        27\n",
      "65        15\n",
      "66         9\n",
      "67         5\n",
      "68         5\n",
      "69         3\n",
      "70         2\n",
      "72         1\n",
      "73         1\n",
      "77         1\n",
      "79         1\n",
      "111        1\n",
      "123        1\n",
      "dtype: int64\n"
     ]
    }
   ],
   "source": [
    "# Age 123 and 111 values seem unrealistic. How many users are we talking about:\n",
    "\n",
    "print(data.groupby(['age']).size())\n"
   ]
  },
  {
   "cell_type": "code",
   "execution_count": 67,
   "metadata": {},
   "outputs": [],
   "source": [
    "# for the age 111 and 123 is just one data point. We can eliminate those data points. Seems like an anomaly\n",
    "data = data[data['age']<110]"
   ]
  },
  {
   "cell_type": "code",
   "execution_count": 68,
   "metadata": {},
   "outputs": [
    {
     "data": {
      "text/plain": [
       "converted\n",
       "0    96.774806\n",
       "1     3.225194\n",
       "dtype: float64"
      ]
     },
     "execution_count": 68,
     "metadata": {},
     "output_type": "execute_result"
    }
   ],
   "source": [
    "# Now we will look at the class imbalance\n",
    "\n",
    "data.groupby(['converted']).size()/data.shape[0] * 100\n"
   ]
  },
  {
   "cell_type": "code",
   "execution_count": 69,
   "metadata": {},
   "outputs": [],
   "source": [
    "# Class is certainly imbalance 96% majority class and 3% minority class. Normal rule of thumb minority class should be atleast 5% of the data\n",
    "\n",
    "from collections import Counter\n",
    "import matplotlib.pyplot as plt\n",
    "import numpy as np\n",
    "import seaborn as sns\n",
    "%matplotlib inline\n",
    "import warnings \n",
    "warnings.filterwarnings (\"ignore\")\n",
    "from pandas import DataFrame\n"
   ]
  },
  {
   "cell_type": "code",
   "execution_count": 70,
   "metadata": {},
   "outputs": [],
   "source": [
    "df = data\n"
   ]
  },
  {
   "cell_type": "code",
   "execution_count": 71,
   "metadata": {},
   "outputs": [],
   "source": [
    "target = ['converted']"
   ]
  },
  {
   "cell_type": "code",
   "execution_count": 72,
   "metadata": {},
   "outputs": [
    {
     "data": {
      "text/plain": [
       "['country', 'age', 'new_user', 'source', 'total_pages_visited', 'converted']"
      ]
     },
     "execution_count": 72,
     "metadata": {},
     "output_type": "execute_result"
    }
   ],
   "source": [
    "# Store categorical column names\n",
    "#categorical = df.nunique()[df.nunique() < 50].keys().tolist()\n",
    "categorical = df.nunique().keys().tolist()\n",
    "categorical\n"
   ]
  },
  {
   "cell_type": "code",
   "execution_count": 73,
   "metadata": {},
   "outputs": [],
   "source": [
    "categorical.remove(target[0])"
   ]
  },
  {
   "cell_type": "code",
   "execution_count": 74,
   "metadata": {},
   "outputs": [
    {
     "data": {
      "text/plain": [
       "['country', 'age', 'new_user', 'source', 'total_pages_visited']"
      ]
     },
     "execution_count": 74,
     "metadata": {},
     "output_type": "execute_result"
    }
   ],
   "source": [
    "categorical"
   ]
  },
  {
   "cell_type": "code",
   "execution_count": 75,
   "metadata": {},
   "outputs": [],
   "source": [
    "df = pandas.get_dummies(data = df, columns = categorical, drop_first=True)\n"
   ]
  },
  {
   "cell_type": "code",
   "execution_count": 76,
   "metadata": {},
   "outputs": [
    {
     "data": {
      "text/html": [
       "<div>\n",
       "<style scoped>\n",
       "    .dataframe tbody tr th:only-of-type {\n",
       "        vertical-align: middle;\n",
       "    }\n",
       "\n",
       "    .dataframe tbody tr th {\n",
       "        vertical-align: top;\n",
       "    }\n",
       "\n",
       "    .dataframe thead th {\n",
       "        text-align: right;\n",
       "    }\n",
       "</style>\n",
       "<table border=\"1\" class=\"dataframe\">\n",
       "  <thead>\n",
       "    <tr style=\"text-align: right;\">\n",
       "      <th></th>\n",
       "      <th>converted</th>\n",
       "      <th>country_Germany</th>\n",
       "      <th>country_UK</th>\n",
       "      <th>country_US</th>\n",
       "      <th>age_18</th>\n",
       "      <th>...</th>\n",
       "      <th>total_pages_visited_25</th>\n",
       "      <th>total_pages_visited_26</th>\n",
       "      <th>total_pages_visited_27</th>\n",
       "      <th>total_pages_visited_28</th>\n",
       "      <th>total_pages_visited_29</th>\n",
       "    </tr>\n",
       "  </thead>\n",
       "  <tbody>\n",
       "    <tr>\n",
       "      <th>count</th>\n",
       "      <td>316198.000000</td>\n",
       "      <td>316198.000000</td>\n",
       "      <td>316198.000000</td>\n",
       "      <td>316198.000000</td>\n",
       "      <td>316198.000000</td>\n",
       "      <td>...</td>\n",
       "      <td>316198.000000</td>\n",
       "      <td>316198.000000</td>\n",
       "      <td>316198.000000</td>\n",
       "      <td>316198.000000</td>\n",
       "      <td>316198.000000</td>\n",
       "    </tr>\n",
       "    <tr>\n",
       "      <th>mean</th>\n",
       "      <td>0.032252</td>\n",
       "      <td>0.041287</td>\n",
       "      <td>0.153224</td>\n",
       "      <td>0.563229</td>\n",
       "      <td>0.026774</td>\n",
       "      <td>...</td>\n",
       "      <td>0.000123</td>\n",
       "      <td>0.000054</td>\n",
       "      <td>0.000022</td>\n",
       "      <td>0.000003</td>\n",
       "      <td>0.000006</td>\n",
       "    </tr>\n",
       "    <tr>\n",
       "      <th>std</th>\n",
       "      <td>0.176669</td>\n",
       "      <td>0.198955</td>\n",
       "      <td>0.360203</td>\n",
       "      <td>0.495987</td>\n",
       "      <td>0.161424</td>\n",
       "      <td>...</td>\n",
       "      <td>0.011105</td>\n",
       "      <td>0.007332</td>\n",
       "      <td>0.004705</td>\n",
       "      <td>0.001778</td>\n",
       "      <td>0.002515</td>\n",
       "    </tr>\n",
       "    <tr>\n",
       "      <th>min</th>\n",
       "      <td>0.000000</td>\n",
       "      <td>0.000000</td>\n",
       "      <td>0.000000</td>\n",
       "      <td>0.000000</td>\n",
       "      <td>0.000000</td>\n",
       "      <td>...</td>\n",
       "      <td>0.000000</td>\n",
       "      <td>0.000000</td>\n",
       "      <td>0.000000</td>\n",
       "      <td>0.000000</td>\n",
       "      <td>0.000000</td>\n",
       "    </tr>\n",
       "    <tr>\n",
       "      <th>25%</th>\n",
       "      <td>0.000000</td>\n",
       "      <td>0.000000</td>\n",
       "      <td>0.000000</td>\n",
       "      <td>0.000000</td>\n",
       "      <td>0.000000</td>\n",
       "      <td>...</td>\n",
       "      <td>0.000000</td>\n",
       "      <td>0.000000</td>\n",
       "      <td>0.000000</td>\n",
       "      <td>0.000000</td>\n",
       "      <td>0.000000</td>\n",
       "    </tr>\n",
       "    <tr>\n",
       "      <th>50%</th>\n",
       "      <td>0.000000</td>\n",
       "      <td>0.000000</td>\n",
       "      <td>0.000000</td>\n",
       "      <td>1.000000</td>\n",
       "      <td>0.000000</td>\n",
       "      <td>...</td>\n",
       "      <td>0.000000</td>\n",
       "      <td>0.000000</td>\n",
       "      <td>0.000000</td>\n",
       "      <td>0.000000</td>\n",
       "      <td>0.000000</td>\n",
       "    </tr>\n",
       "    <tr>\n",
       "      <th>75%</th>\n",
       "      <td>0.000000</td>\n",
       "      <td>0.000000</td>\n",
       "      <td>0.000000</td>\n",
       "      <td>1.000000</td>\n",
       "      <td>0.000000</td>\n",
       "      <td>...</td>\n",
       "      <td>0.000000</td>\n",
       "      <td>0.000000</td>\n",
       "      <td>0.000000</td>\n",
       "      <td>0.000000</td>\n",
       "      <td>0.000000</td>\n",
       "    </tr>\n",
       "    <tr>\n",
       "      <th>max</th>\n",
       "      <td>1.000000</td>\n",
       "      <td>1.000000</td>\n",
       "      <td>1.000000</td>\n",
       "      <td>1.000000</td>\n",
       "      <td>1.000000</td>\n",
       "      <td>...</td>\n",
       "      <td>1.000000</td>\n",
       "      <td>1.000000</td>\n",
       "      <td>1.000000</td>\n",
       "      <td>1.000000</td>\n",
       "      <td>1.000000</td>\n",
       "    </tr>\n",
       "  </tbody>\n",
       "</table>\n",
       "<p>8 rows × 92 columns</p>\n",
       "</div>"
      ],
      "text/plain": [
       "           converted  country_Germany     country_UK     country_US         age_18           ...            total_pages_visited_25  total_pages_visited_26  total_pages_visited_27  total_pages_visited_28  total_pages_visited_29\n",
       "count  316198.000000    316198.000000  316198.000000  316198.000000  316198.000000           ...                     316198.000000           316198.000000           316198.000000           316198.000000           316198.000000\n",
       "mean        0.032252         0.041287       0.153224       0.563229       0.026774           ...                          0.000123                0.000054                0.000022                0.000003                0.000006\n",
       "std         0.176669         0.198955       0.360203       0.495987       0.161424           ...                          0.011105                0.007332                0.004705                0.001778                0.002515\n",
       "min         0.000000         0.000000       0.000000       0.000000       0.000000           ...                          0.000000                0.000000                0.000000                0.000000                0.000000\n",
       "25%         0.000000         0.000000       0.000000       0.000000       0.000000           ...                          0.000000                0.000000                0.000000                0.000000                0.000000\n",
       "50%         0.000000         0.000000       0.000000       1.000000       0.000000           ...                          0.000000                0.000000                0.000000                0.000000                0.000000\n",
       "75%         0.000000         0.000000       0.000000       1.000000       0.000000           ...                          0.000000                0.000000                0.000000                0.000000                0.000000\n",
       "max         1.000000         1.000000       1.000000       1.000000       1.000000           ...                          1.000000                1.000000                1.000000                1.000000                1.000000\n",
       "\n",
       "[8 rows x 92 columns]"
      ]
     },
     "execution_count": 76,
     "metadata": {},
     "output_type": "execute_result"
    }
   ],
   "source": [
    "df.describe()"
   ]
  },
  {
   "cell_type": "code",
   "execution_count": 77,
   "metadata": {},
   "outputs": [],
   "source": [
    "X = df.values[:, 1::]\n",
    "y = df.values[:, 0]"
   ]
  },
  {
   "cell_type": "code",
   "execution_count": 78,
   "metadata": {},
   "outputs": [
    {
     "name": "stdout",
     "output_type": "stream",
     "text": [
      "[(0, 306000), (1, 10198)]\n"
     ]
    }
   ],
   "source": [
    "print(sorted(Counter(y).items()))\n"
   ]
  },
  {
   "cell_type": "code",
   "execution_count": 79,
   "metadata": {},
   "outputs": [
    {
     "data": {
      "text/plain": [
       "array([[0, 1, 0, ..., 0, 0, 0],\n",
       "       [0, 0, 1, ..., 0, 0, 0],\n",
       "       [0, 0, 1, ..., 0, 0, 0],\n",
       "       ...,\n",
       "       [0, 0, 0, ..., 0, 0, 0],\n",
       "       [0, 0, 1, ..., 0, 0, 0],\n",
       "       [0, 1, 0, ..., 0, 0, 0]], dtype=int64)"
      ]
     },
     "execution_count": 79,
     "metadata": {},
     "output_type": "execute_result"
    }
   ],
   "source": [
    "X"
   ]
  },
  {
   "cell_type": "code",
   "execution_count": 80,
   "metadata": {},
   "outputs": [
    {
     "data": {
      "text/plain": [
       "array([0, 0, 0, ..., 0, 0, 0], dtype=int64)"
      ]
     },
     "execution_count": 80,
     "metadata": {},
     "output_type": "execute_result"
    }
   ],
   "source": [
    "y"
   ]
  },
  {
   "cell_type": "code",
   "execution_count": 81,
   "metadata": {},
   "outputs": [],
   "source": [
    "import pandas as pd\n",
    "import os,fnmatch\n",
    "from sklearn.model_selection import train_test_split\n",
    "import warnings\n",
    "warnings.simplefilter('ignore')\n",
    "import numpy as np\n",
    "\n",
    "\n",
    "import matplotlib.pyplot as plt\n",
    "from sklearn.metrics import classification_report, precision_recall_fscore_support,roc_auc_score\n",
    "from matplotlib.colors import ListedColormap\n",
    "from sklearn.model_selection import train_test_split\n",
    "from sklearn.preprocessing import StandardScaler\n",
    "from sklearn.datasets import make_moons, make_circles, make_classification\n",
    "from sklearn.neural_network import MLPClassifier\n",
    "from sklearn.neighbors import KNeighborsClassifier\n",
    "from sklearn.svm import SVC\n",
    "from sklearn.gaussian_process import GaussianProcessClassifier\n",
    "from sklearn.gaussian_process.kernels import RBF\n",
    "from sklearn.tree import DecisionTreeClassifier\n",
    "from sklearn.ensemble import RandomForestClassifier, AdaBoostClassifier\n",
    "from sklearn.naive_bayes import GaussianNB\n",
    "from sklearn.discriminant_analysis import QuadraticDiscriminantAnalysis\n",
    "from sklearn.linear_model import LogisticRegression\n",
    "from IPython.display import display, HTML"
   ]
  },
  {
   "cell_type": "code",
   "execution_count": 82,
   "metadata": {},
   "outputs": [],
   "source": [
    "data_list=[]\n",
    "x=data\n",
    "list_temp=[]\n",
    "list_temp.append(x.shape[0])\n",
    "temp_df=x[x['converted']==1.0]\n",
    "list_temp.append(temp_df.shape[0])\n",
    "temp_df=x[x['converted']==0.0]\n",
    "list_temp.append(temp_df.shape[0])\n",
    "list_temp.append(len(x.columns)-1)\n",
    "data_list.append(list_temp) \n",
    "df_Print_info = pd.DataFrame(data_list, columns = ['#Samples','#Minority','#Majority','#Features'],\n",
    "                      index=['Conversion_rate']) "
   ]
  },
  {
   "cell_type": "code",
   "execution_count": 83,
   "metadata": {},
   "outputs": [
    {
     "data": {
      "text/html": [
       "<div>\n",
       "<style scoped>\n",
       "    .dataframe tbody tr th:only-of-type {\n",
       "        vertical-align: middle;\n",
       "    }\n",
       "\n",
       "    .dataframe tbody tr th {\n",
       "        vertical-align: top;\n",
       "    }\n",
       "\n",
       "    .dataframe thead th {\n",
       "        text-align: right;\n",
       "    }\n",
       "</style>\n",
       "<table border=\"1\" class=\"dataframe\">\n",
       "  <thead>\n",
       "    <tr style=\"text-align: right;\">\n",
       "      <th></th>\n",
       "      <th>#Samples</th>\n",
       "      <th>#Minority</th>\n",
       "      <th>#Majority</th>\n",
       "      <th>#Features</th>\n",
       "    </tr>\n",
       "  </thead>\n",
       "  <tbody>\n",
       "    <tr>\n",
       "      <th>Conversion_rate</th>\n",
       "      <td>316198</td>\n",
       "      <td>10198</td>\n",
       "      <td>306000</td>\n",
       "      <td>5</td>\n",
       "    </tr>\n",
       "  </tbody>\n",
       "</table>\n",
       "</div>"
      ],
      "text/plain": [
       "                 #Samples  #Minority  #Majority  #Features\n",
       "Conversion_rate    316198      10198     306000          5"
      ]
     },
     "execution_count": 83,
     "metadata": {},
     "output_type": "execute_result"
    }
   ],
   "source": [
    "df_Print_info"
   ]
  },
  {
   "cell_type": "code",
   "execution_count": 84,
   "metadata": {},
   "outputs": [],
   "source": [
    "def plot_scatter(database,feature1,feature2):\n",
    "    for x in database:\n",
    "        x.plot(x=feature1,y=feature2,kind='scatter')"
   ]
  },
  {
   "cell_type": "code",
   "execution_count": 85,
   "metadata": {},
   "outputs": [
    {
     "data": {
      "text/html": [
       "<div>\n",
       "<style scoped>\n",
       "    .dataframe tbody tr th:only-of-type {\n",
       "        vertical-align: middle;\n",
       "    }\n",
       "\n",
       "    .dataframe tbody tr th {\n",
       "        vertical-align: top;\n",
       "    }\n",
       "\n",
       "    .dataframe thead th {\n",
       "        text-align: right;\n",
       "    }\n",
       "</style>\n",
       "<table border=\"1\" class=\"dataframe\">\n",
       "  <thead>\n",
       "    <tr style=\"text-align: right;\">\n",
       "      <th></th>\n",
       "      <th>country</th>\n",
       "      <th>age</th>\n",
       "      <th>new_user</th>\n",
       "      <th>source</th>\n",
       "      <th>total_pages_visited</th>\n",
       "      <th>converted</th>\n",
       "    </tr>\n",
       "  </thead>\n",
       "  <tbody>\n",
       "    <tr>\n",
       "      <th>0</th>\n",
       "      <td>UK</td>\n",
       "      <td>25</td>\n",
       "      <td>1</td>\n",
       "      <td>Ads</td>\n",
       "      <td>1</td>\n",
       "      <td>0</td>\n",
       "    </tr>\n",
       "    <tr>\n",
       "      <th>1</th>\n",
       "      <td>US</td>\n",
       "      <td>23</td>\n",
       "      <td>1</td>\n",
       "      <td>Seo</td>\n",
       "      <td>5</td>\n",
       "      <td>0</td>\n",
       "    </tr>\n",
       "    <tr>\n",
       "      <th>2</th>\n",
       "      <td>US</td>\n",
       "      <td>28</td>\n",
       "      <td>1</td>\n",
       "      <td>Seo</td>\n",
       "      <td>4</td>\n",
       "      <td>0</td>\n",
       "    </tr>\n",
       "    <tr>\n",
       "      <th>3</th>\n",
       "      <td>China</td>\n",
       "      <td>39</td>\n",
       "      <td>1</td>\n",
       "      <td>Seo</td>\n",
       "      <td>5</td>\n",
       "      <td>0</td>\n",
       "    </tr>\n",
       "    <tr>\n",
       "      <th>4</th>\n",
       "      <td>US</td>\n",
       "      <td>30</td>\n",
       "      <td>1</td>\n",
       "      <td>Seo</td>\n",
       "      <td>6</td>\n",
       "      <td>0</td>\n",
       "    </tr>\n",
       "  </tbody>\n",
       "</table>\n",
       "</div>"
      ],
      "text/plain": [
       "  country  age  new_user source  total_pages_visited  converted\n",
       "0      UK   25         1    Ads                    1          0\n",
       "1      US   23         1    Seo                    5          0\n",
       "2      US   28         1    Seo                    4          0\n",
       "3   China   39         1    Seo                    5          0\n",
       "4      US   30         1    Seo                    6          0"
      ]
     },
     "execution_count": 85,
     "metadata": {},
     "output_type": "execute_result"
    }
   ],
   "source": [
    "data.head()"
   ]
  },
  {
   "cell_type": "code",
   "execution_count": 86,
   "metadata": {},
   "outputs": [],
   "source": [
    "data['country_dummy']= data['country'].astype('category').cat.codes\n",
    "data['source_dummy']= data['source'].astype('category').cat.codes\n",
    "\n"
   ]
  },
  {
   "cell_type": "code",
   "execution_count": 87,
   "metadata": {},
   "outputs": [],
   "source": [
    "# you can select features x1,x2 but since it is taking all data bases at once you should not exceed more than 7 features \n",
    "#  well if you want to plot scatter based on particluar database then         \n",
    "# databse[0].plot(x='v1',y='v5',kind='scatter')\n",
    "# Scatter plotting \n",
    "X = data['age'].values\n",
    "y = data['country_dummy'].values\n",
    "target = data['converted'].values"
   ]
  },
  {
   "cell_type": "code",
   "execution_count": 88,
   "metadata": {},
   "outputs": [
    {
     "data": {
      "image/png": "[encoded data removed]",
      "text/plain": [
       "<Figure size 432x288 with 1 Axes>"
      ]
     },
     "metadata": {
      "needs_background": "light"
     },
     "output_type": "display_data"
    }
   ],
   "source": [
    "#visualize the data before any work is done\n",
    "dt = DataFrame(dict(x=X, y=y, label=target))\n",
    "\n",
    "colors = {0:'red', 1:'blue'}\n",
    "fig, ax = plt.subplots()\n",
    "grouped = dt.groupby('label')\n",
    "for key, group in grouped:\n",
    "    group.plot(ax=ax, kind='scatter', x='x', y='y', label=key, color=colors[key])\n",
    "plt.show()"
   ]
  },
  {
   "cell_type": "code",
   "execution_count": 96,
   "metadata": {},
   "outputs": [],
   "source": [
    "def model_evaluation_all_model(database, option, class_weight_param):\n",
    "    h = .02  # step size in the mesh\n",
    "    \n",
    "    if option == 'one':\n",
    "        names = [ \"Random Forest\"]\n",
    "\n",
    "        classifiers = [\n",
    "\n",
    "            RandomForestClassifier(max_depth=5, n_estimators=10, class_weight= class_weight_param)\n",
    "            ]\n",
    "        datasets = database[['new_user', 'converted', 'country_dummy','source_dummy']]\n",
    "        \n",
    "    if option == 'All':    \n",
    "        names = [\"Logistic Regression\",\"Linear SVM\",\n",
    "             \"Decision Tree\", \"Random Forest\", \"AdaBoost\",\n",
    "             \"Naive Bayes\"]\n",
    "\n",
    "        classifiers = [\n",
    "            LogisticRegression(solver='liblinear',multi_class='ovr'),\n",
    "            SVC(kernel=\"linear\", C=0.025),\n",
    "            DecisionTreeClassifier(max_depth=5),\n",
    "            RandomForestClassifier(max_depth=5, n_estimators=10 ),\n",
    "            AdaBoostClassifier(),\n",
    "            GaussianNB()]\n",
    "        datasets = database[['new_user', 'converted', 'country_dummy','source_dummy','total_pages_visited']]\n",
    "\n",
    "    \n",
    "    \n",
    "    # iterate over datasets\n",
    "    \n",
    "#         print(ds_cnt)\n",
    "    #print('Dataset{} Evaluation Table'.format(ds_cnt+1))\n",
    "    # preprocess dataset, split into training and test part\n",
    "    classes=datasets['converted'].values\n",
    "    inputs=datasets.drop(columns=['converted']).values\n",
    "    X, y = inputs,classes\n",
    "    X = StandardScaler().fit_transform(X)\n",
    "    X_train, X_test, y_train, y_test = train_test_split(inputs,classes,train_size=0.66)\n",
    "    list_values_train=[]\n",
    "    list_value_test=[]\n",
    "    for name, clf in zip(names, classifiers):\n",
    "        clf.fit(X_train, y_train)\n",
    "        predicted_train_y=clf.predict(X_train)\n",
    "        predicted_test_y=clf.predict(X_test)\n",
    "        report_train=classification_report(y_train,predicted_train_y,output_dict=True)\n",
    "        report_test=classification_report(y_test,predicted_test_y,output_dict=True)\n",
    "        key=list(report_test.keys())[0]\n",
    "        valu_test=list(report_test[key].values())\n",
    "        valu_train=list(report_train[key].values())\n",
    "        score_train=clf.score(X_train,y_train)\n",
    "        valu_train.append(score_train)\n",
    "        score_test = clf.score(X_test, y_test)\n",
    "        valu_test.append(score_test)\n",
    "        list_values_train.append(valu_train)\n",
    "        list_value_test.append(valu_test)\n",
    "    \n",
    "   # if class_weight_param = '{}':\n",
    "   #     class_weight = 'Default'\n",
    "    class_weight = class_weight_param\n",
    "    \n",
    "        \n",
    "    if option == 'one':\n",
    "        df_test=pd.DataFrame(list_value_test, columns = ['precision','recall','f1-score','support','accuracy'],index=[ \" Test Random Forest\"])\n",
    "        df_train=pd.DataFrame(list_values_train, columns = ['precision','recall','f1-score','support','accuracy'],index=[ \"Train Random Forest\"])\n",
    "        df_accuracy = df_test.append (df_train) \n",
    "        #df_accuracy['class_weight'] = pd.series [class_weight_param,class_weight_param]\n",
    "        \n",
    "        #display('Train data set accuracy')\n",
    "        display(df_accuracy)\n",
    "        #display('Test data set accuracy')\n",
    "        #display(df_test)\n",
    "    if option == 'All':\n",
    "        df_test=pd.DataFrame(list_value_test, columns = ['precision','recall','f1-score','support','accuracy'],index=[\"Logistic Regression\",\"Linear SVM\",\"Decision Tree\", \"Random Forest\", \"AdaBoost\",\"Naive Bayes\"])\n",
    "        df_train=pd.DataFrame(list_values_train, columns = ['precision','recall','f1-score','support','accuracy'],index=[\"Logistic Regression\",\"Linear SVM\",\"Decision Tree\", \"Random Forest\", \"AdaBoost\",\"Naive Bayes\"])\n",
    "        display('Train data set accuracy')\n",
    "        display(df_train)\n",
    "        display('Test data set accuracy')\n",
    "        display(df_test)\n",
    "    \n",
    "\n",
    " \n",
    "    \n",
    "   \n",
    "\n",
    "    "
   ]
  },
  {
   "cell_type": "code",
   "execution_count": 97,
   "metadata": {},
   "outputs": [
    {
     "data": {
      "text/plain": [
       "'Train data set accuracy'"
      ]
     },
     "metadata": {},
     "output_type": "display_data"
    },
    {
     "data": {
      "text/html": [
       "<div>\n",
       "<style scoped>\n",
       "    .dataframe tbody tr th:only-of-type {\n",
       "        vertical-align: middle;\n",
       "    }\n",
       "\n",
       "    .dataframe tbody tr th {\n",
       "        vertical-align: top;\n",
       "    }\n",
       "\n",
       "    .dataframe thead th {\n",
       "        text-align: right;\n",
       "    }\n",
       "</style>\n",
       "<table border=\"1\" class=\"dataframe\">\n",
       "  <thead>\n",
       "    <tr style=\"text-align: right;\">\n",
       "      <th></th>\n",
       "      <th>precision</th>\n",
       "      <th>recall</th>\n",
       "      <th>f1-score</th>\n",
       "      <th>support</th>\n",
       "      <th>accuracy</th>\n",
       "    </tr>\n",
       "  </thead>\n",
       "  <tbody>\n",
       "    <tr>\n",
       "      <th>Logistic Regression</th>\n",
       "      <td>0.988289</td>\n",
       "      <td>0.996178</td>\n",
       "      <td>0.992218</td>\n",
       "      <td>201963</td>\n",
       "      <td>0.984877</td>\n",
       "    </tr>\n",
       "    <tr>\n",
       "      <th>Linear SVM</th>\n",
       "      <td>0.987675</td>\n",
       "      <td>0.996727</td>\n",
       "      <td>0.992180</td>\n",
       "      <td>201963</td>\n",
       "      <td>0.984796</td>\n",
       "    </tr>\n",
       "    <tr>\n",
       "      <th>Decision Tree</th>\n",
       "      <td>0.988045</td>\n",
       "      <td>0.996816</td>\n",
       "      <td>0.992411</td>\n",
       "      <td>201963</td>\n",
       "      <td>0.985246</td>\n",
       "    </tr>\n",
       "    <tr>\n",
       "      <th>Random Forest</th>\n",
       "      <td>0.987959</td>\n",
       "      <td>0.996955</td>\n",
       "      <td>0.992437</td>\n",
       "      <td>201963</td>\n",
       "      <td>0.985294</td>\n",
       "    </tr>\n",
       "    <tr>\n",
       "      <th>AdaBoost</th>\n",
       "      <td>0.988371</td>\n",
       "      <td>0.996544</td>\n",
       "      <td>0.992441</td>\n",
       "      <td>201963</td>\n",
       "      <td>0.985308</td>\n",
       "    </tr>\n",
       "    <tr>\n",
       "      <th>Naive Bayes</th>\n",
       "      <td>0.992376</td>\n",
       "      <td>0.988706</td>\n",
       "      <td>0.990538</td>\n",
       "      <td>201963</td>\n",
       "      <td>0.981719</td>\n",
       "    </tr>\n",
       "  </tbody>\n",
       "</table>\n",
       "</div>"
      ],
      "text/plain": [
       "                     precision    recall  f1-score  support  accuracy\n",
       "Logistic Regression   0.988289  0.996178  0.992218   201963  0.984877\n",
       "Linear SVM            0.987675  0.996727  0.992180   201963  0.984796\n",
       "Decision Tree         0.988045  0.996816  0.992411   201963  0.985246\n",
       "Random Forest         0.987959  0.996955  0.992437   201963  0.985294\n",
       "AdaBoost              0.988371  0.996544  0.992441   201963  0.985308\n",
       "Naive Bayes           0.992376  0.988706  0.990538   201963  0.981719"
      ]
     },
     "metadata": {},
     "output_type": "display_data"
    },
    {
     "data": {
      "text/plain": [
       "'Test data set accuracy'"
      ]
     },
     "metadata": {},
     "output_type": "display_data"
    },
    {
     "data": {
      "text/html": [
       "<div>\n",
       "<style scoped>\n",
       "    .dataframe tbody tr th:only-of-type {\n",
       "        vertical-align: middle;\n",
       "    }\n",
       "\n",
       "    .dataframe tbody tr th {\n",
       "        vertical-align: top;\n",
       "    }\n",
       "\n",
       "    .dataframe thead th {\n",
       "        text-align: right;\n",
       "    }\n",
       "</style>\n",
       "<table border=\"1\" class=\"dataframe\">\n",
       "  <thead>\n",
       "    <tr style=\"text-align: right;\">\n",
       "      <th></th>\n",
       "      <th>precision</th>\n",
       "      <th>recall</th>\n",
       "      <th>f1-score</th>\n",
       "      <th>support</th>\n",
       "      <th>accuracy</th>\n",
       "    </tr>\n",
       "  </thead>\n",
       "  <tbody>\n",
       "    <tr>\n",
       "      <th>Logistic Regression</th>\n",
       "      <td>0.988168</td>\n",
       "      <td>0.996184</td>\n",
       "      <td>0.992160</td>\n",
       "      <td>104037</td>\n",
       "      <td>0.984764</td>\n",
       "    </tr>\n",
       "    <tr>\n",
       "      <th>Linear SVM</th>\n",
       "      <td>0.987525</td>\n",
       "      <td>0.996761</td>\n",
       "      <td>0.992121</td>\n",
       "      <td>104037</td>\n",
       "      <td>0.984680</td>\n",
       "    </tr>\n",
       "    <tr>\n",
       "      <th>Decision Tree</th>\n",
       "      <td>0.987969</td>\n",
       "      <td>0.996895</td>\n",
       "      <td>0.992412</td>\n",
       "      <td>104037</td>\n",
       "      <td>0.985248</td>\n",
       "    </tr>\n",
       "    <tr>\n",
       "      <th>Random Forest</th>\n",
       "      <td>0.987931</td>\n",
       "      <td>0.996915</td>\n",
       "      <td>0.992403</td>\n",
       "      <td>104037</td>\n",
       "      <td>0.985229</td>\n",
       "    </tr>\n",
       "    <tr>\n",
       "      <th>AdaBoost</th>\n",
       "      <td>0.988369</td>\n",
       "      <td>0.996501</td>\n",
       "      <td>0.992419</td>\n",
       "      <td>104037</td>\n",
       "      <td>0.985266</td>\n",
       "    </tr>\n",
       "    <tr>\n",
       "      <th>Naive Bayes</th>\n",
       "      <td>0.992789</td>\n",
       "      <td>0.988600</td>\n",
       "      <td>0.990690</td>\n",
       "      <td>104037</td>\n",
       "      <td>0.982020</td>\n",
       "    </tr>\n",
       "  </tbody>\n",
       "</table>\n",
       "</div>"
      ],
      "text/plain": [
       "                     precision    recall  f1-score  support  accuracy\n",
       "Logistic Regression   0.988168  0.996184  0.992160   104037  0.984764\n",
       "Linear SVM            0.987525  0.996761  0.992121   104037  0.984680\n",
       "Decision Tree         0.987969  0.996895  0.992412   104037  0.985248\n",
       "Random Forest         0.987931  0.996915  0.992403   104037  0.985229\n",
       "AdaBoost              0.988369  0.996501  0.992419   104037  0.985266\n",
       "Naive Bayes           0.992789  0.988600  0.990690   104037  0.982020"
      ]
     },
     "metadata": {},
     "output_type": "display_data"
    }
   ],
   "source": [
    "option = 'All'\n",
    "class_weight_param = {}#'balanced'   #{0:1, 1:10}\n",
    "model_evaluation_all_model(data, option, class_weight_param)"
   ]
  },
  {
   "cell_type": "code",
   "execution_count": 38,
   "metadata": {},
   "outputs": [
    {
     "data": {
      "image/png": "[encoded data removed]",
      "text/plain": [
       "<Figure size 432x288 with 1 Axes>"
      ]
     },
     "metadata": {
      "needs_background": "light"
     },
     "output_type": "display_data"
    }
   ],
   "source": [
    "# We will choose random forest because it provides the highest accuracy\n",
    "# Train and test errors are very close that means model is not overfitting\n",
    "data_dummy = pandas.get_dummies(data[['country', 'age', 'new_user', 'source', 'total_pages_visited', 'converted']], drop_first=True)\n",
    "train, test = train_test_split(data_dummy, test_size = 0.34)\n",
    "rf = RandomForestClassifier(max_depth=5, n_estimators=10)\n",
    "rf.fit(train.drop('converted', axis=1), train['converted'])\n",
    "feat_importances = pandas.Series(rf.feature_importances_, index=train.drop('converted', axis=1).columns)\n",
    "feat_importances.sort_values().plot(kind='barh')\n",
    "plt.show()"
   ]
  },
  {
   "cell_type": "code",
   "execution_count": 39,
   "metadata": {},
   "outputs": [
    {
     "data": {
      "image/png": "[encoded data removed]",
      "text/plain": [
       "<Figure size 432x288 with 1 Axes>"
      ]
     },
     "metadata": {
      "needs_background": "light"
     },
     "output_type": "display_data"
    }
   ],
   "source": [
    "### total page visited is the most important one, which is unfortunately least actionable\n",
    "## Let's build the model without this feature\n",
    "\n",
    "data_dummy = pandas.get_dummies(data[['country', 'age', 'new_user', 'source',  'converted']], drop_first=True)\n",
    "train, test = train_test_split(data_dummy, test_size = 0.34)\n",
    "rf = RandomForestClassifier(max_depth=5, n_estimators=10)\n",
    "rf.fit(train.drop('converted', axis=1), train['converted'])\n",
    "feat_importances = pandas.Series(rf.feature_importances_, index=train.drop('converted', axis=1).columns)\n",
    "feat_importances.sort_values().plot(kind='barh')\n",
    "plt.show()\n",
    "\n"
   ]
  },
  {
   "cell_type": "code",
   "execution_count": 40,
   "metadata": {},
   "outputs": [
    {
     "data": {
      "text/plain": [
       "{}"
      ]
     },
     "execution_count": 40,
     "metadata": {},
     "output_type": "execute_result"
    }
   ],
   "source": [
    "\n",
    "option = 'one'\n",
    "\n",
    "class_weight_param = [{},'balanced'   ,{0:1, 1:10}]\n",
    "\n",
    "class_weight_param [0]\n",
    "\n"
   ]
  },
  {
   "cell_type": "code",
   "execution_count": 41,
   "metadata": {},
   "outputs": [
    {
     "data": {
      "text/html": [
       "<div>\n",
       "<style scoped>\n",
       "    .dataframe tbody tr th:only-of-type {\n",
       "        vertical-align: middle;\n",
       "    }\n",
       "\n",
       "    .dataframe tbody tr th {\n",
       "        vertical-align: top;\n",
       "    }\n",
       "\n",
       "    .dataframe thead th {\n",
       "        text-align: right;\n",
       "    }\n",
       "</style>\n",
       "<table border=\"1\" class=\"dataframe\">\n",
       "  <thead>\n",
       "    <tr style=\"text-align: right;\">\n",
       "      <th></th>\n",
       "      <th>precision</th>\n",
       "      <th>recall</th>\n",
       "      <th>f1-score</th>\n",
       "      <th>support</th>\n",
       "      <th>accuracy</th>\n",
       "    </tr>\n",
       "  </thead>\n",
       "  <tbody>\n",
       "    <tr>\n",
       "      <th>Test Random Forest</th>\n",
       "      <td>0.973971</td>\n",
       "      <td>0.943517</td>\n",
       "      <td>0.958502</td>\n",
       "      <td>104103</td>\n",
       "      <td>0.920890</td>\n",
       "    </tr>\n",
       "    <tr>\n",
       "      <th>Train Random Forest</th>\n",
       "      <td>0.973357</td>\n",
       "      <td>0.943124</td>\n",
       "      <td>0.958002</td>\n",
       "      <td>201897</td>\n",
       "      <td>0.920001</td>\n",
       "    </tr>\n",
       "  </tbody>\n",
       "</table>\n",
       "</div>"
      ],
      "text/plain": [
       "                     precision    recall  f1-score  support  accuracy\n",
       " Test Random Forest   0.973971  0.943517  0.958502   104103  0.920890\n",
       "Train Random Forest   0.973357  0.943124  0.958002   201897  0.920001"
      ]
     },
     "metadata": {},
     "output_type": "display_data"
    }
   ],
   "source": [
    "model_evaluation_all_model(data, option, class_weight_param [2])"
   ]
  },
  {
   "cell_type": "code",
   "execution_count": 42,
   "metadata": {},
   "outputs": [],
   "source": [
    "# We know classes are imbalanced, we will not take the default option. I have option 3. Accuracy goes down compared to the default option but better than balanced option"
   ]
  },
  {
   "cell_type": "markdown",
   "metadata": {},
   "source": [
    "# Let’s check partial dependence plots for the 4 vars:"
   ]
  },
  {
   "cell_type": "code",
   "execution_count": 43,
   "metadata": {},
   "outputs": [
    {
     "data": {
      "image/png": "[encoded data removed]",
      "text/plain": [
       "<Figure size 432x288 with 1 Axes>"
      ]
     },
     "metadata": {
      "needs_background": "light"
     },
     "output_type": "display_data"
    }
   ],
   "source": [
    "from pdpbox import pdp, info_plots\n",
    "  \n",
    "#country\n",
    "pdp_iso = pdp.pdp_isolate( model=rf, \n",
    "                          dataset=train.drop(['converted'], axis=1),      \n",
    "                          model_features=list(train.drop(['converted'], axis=1)), \n",
    "                          feature=['country_Germany', 'country_UK', 'country_US'], \n",
    "                          num_grid_points=50)\n",
    "pdp_dataset = pandas.Series(pdp_iso.pdp, index=pdp_iso.display_columns)\n",
    "pdp_dataset.sort_values(ascending=False).plot(kind='bar', title='Country')\n",
    "plt.show()"
   ]
  },
  {
   "cell_type": "code",
   "execution_count": 44,
   "metadata": {},
   "outputs": [
    {
     "data": {
      "image/png": "[encoded data removed]",
      "text/plain": [
       "<Figure size 432x288 with 1 Axes>"
      ]
     },
     "metadata": {
      "needs_background": "light"
     },
     "output_type": "display_data"
    }
   ],
   "source": [
    "#PDP source\n",
    "pdp_iso = pdp.pdp_isolate( model=rf, \n",
    "                          dataset=train.drop(['converted'], axis=1),      \n",
    "                          model_features=list(train.drop(['converted'], axis=1)), \n",
    "                          feature=['source_Direct', 'source_Seo'], \n",
    "                          num_grid_points=50)\n",
    "pdp_dataset = pandas.Series(pdp_iso.pdp, index=pdp_iso.display_columns)\n",
    "pdp_dataset.sort_values(ascending=False).plot(kind='bar', title='Source')\n",
    "plt.show()"
   ]
  },
  {
   "cell_type": "code",
   "execution_count": 45,
   "metadata": {},
   "outputs": [
    {
     "data": {
      "image/png": "[encoded data removed]",
      "text/plain": [
       "<Figure size 432x288 with 1 Axes>"
      ]
     },
     "metadata": {
      "needs_background": "light"
     },
     "output_type": "display_data"
    }
   ],
   "source": [
    "#new user\n",
    "pdp_iso = pdp.pdp_isolate( model=rf, \n",
    "                          dataset=train.drop(['converted'], axis=1),      \n",
    "                          model_features=list(train.drop(['converted'], axis=1)), \n",
    "                          feature='new_user', \n",
    "                          num_grid_points=50)\n",
    "pdp_dataset = pandas.Series(pdp_iso.pdp, index=pdp_iso.display_columns)\n",
    "pdp_dataset.sort_values(ascending=False).plot(kind='bar', title='New User')\n",
    "plt.show()"
   ]
  },
  {
   "cell_type": "code",
   "execution_count": 46,
   "metadata": {},
   "outputs": [
    {
     "data": {
      "image/png": "[encoded data removed]",
      "text/plain": [
       "<Figure size 432x288 with 1 Axes>"
      ]
     },
     "metadata": {
      "needs_background": "light"
     },
     "output_type": "display_data"
    }
   ],
   "source": [
    "#age\n",
    "pdp_iso = pdp.pdp_isolate( model=rf, \n",
    "                          dataset=train.drop(['converted'], axis=1),      \n",
    "                          model_features=list(train.drop(['converted'], axis=1)), \n",
    "                          feature='age', \n",
    "                          num_grid_points=50)\n",
    "pdp_dataset = pandas.Series(pdp_iso.pdp, index=pdp_iso.feature_grids)\n",
    "pdp_dataset.plot(title='Age')\n",
    "plt.show()"
   ]
  },
  {
   "cell_type": "code",
   "execution_count": 47,
   "metadata": {},
   "outputs": [],
   "source": [
    "# Site works well for <30 yr old\n",
    "# Germany users are the best \n",
    "# Users with old account are much better than new users\n",
    "# Source is irrelevant\n"
   ]
  },
  {
   "cell_type": "code",
   "execution_count": 52,
   "metadata": {},
   "outputs": [
    {
     "data": {
      "image/svg+xml": [
       "<?xml version=\"1.0\" encoding=\"UTF-8\" standalone=\"no\"?>\r\n",
       "<!DOCTYPE svg PUBLIC \"-//W3C//DTD SVG 1.1//EN\"\r\n",
       " \"http://www.w3.org/Graphics/SVG/1.1/DTD/svg11.dtd\">\r\n",
       "<!-- Generated by graphviz version 2.38.0 (20140413.2041)\r\n",
       " -->\r\n",
       "<!-- Title: Tree Pages: 1 -->\r\n",
       "<svg width=\"483pt\" height=\"338pt\"\r\n",
       " viewBox=\"0.00 0.00 483.00 338.00\" xmlns=\"http://www.w3.org/2000/svg\" xmlns:xlink=\"http://www.w3.org/1999/xlink\">\r\n",
       "<g id=\"graph0\" class=\"graph\" transform=\"scale(1 1) rotate(0) translate(4 334)\">\r\n",
       "<title>Tree</title>\r\n",
       "<polygon fill=\"white\" stroke=\"none\" points=\"-4,4 -4,-334 479,-334 479,4 -4,4\"/>\r\n",
       "<!-- 0 -->\r\n",
       "<g id=\"node1\" class=\"node\"><title>0</title>\r\n",
       "<polygon fill=\"#e58139\" fill-opacity=\"0.666667\" stroke=\"black\" points=\"125,-207.5 0,-207.5 0,-124.5 125,-124.5 125,-207.5\"/>\r\n",
       "<text text-anchor=\"start\" x=\"39.5\" y=\"-192.3\" font-family=\"Times New Roman,serif\" font-size=\"14.00\">node #0</text>\r\n",
       "<text text-anchor=\"start\" x=\"19.5\" y=\"-177.3\" font-family=\"Times New Roman,serif\" font-size=\"14.00\">new_user ≤ 0.5</text>\r\n",
       "<text text-anchor=\"start\" x=\"29\" y=\"-162.3\" font-family=\"Times New Roman,serif\" font-size=\"14.00\">gini = 0.375</text>\r\n",
       "<text text-anchor=\"start\" x=\"10.5\" y=\"-147.3\" font-family=\"Times New Roman,serif\" font-size=\"14.00\">samples = 100.0%</text>\r\n",
       "<text text-anchor=\"start\" x=\"8\" y=\"-132.3\" font-family=\"Times New Roman,serif\" font-size=\"14.00\">value = [0.75, 0.25]</text>\r\n",
       "</g>\r\n",
       "<!-- 1 -->\r\n",
       "<g id=\"node2\" class=\"node\"><title>1</title>\r\n",
       "<polygon fill=\"#e58139\" fill-opacity=\"0.223529\" stroke=\"black\" points=\"300,-258.5 161,-258.5 161,-175.5 300,-175.5 300,-258.5\"/>\r\n",
       "<text text-anchor=\"start\" x=\"207.5\" y=\"-243.3\" font-family=\"Times New Roman,serif\" font-size=\"14.00\">node #1</text>\r\n",
       "<text text-anchor=\"start\" x=\"201.5\" y=\"-228.3\" font-family=\"Times New Roman,serif\" font-size=\"14.00\">age ≤ 30.5</text>\r\n",
       "<text text-anchor=\"start\" x=\"197\" y=\"-213.3\" font-family=\"Times New Roman,serif\" font-size=\"14.00\">gini = 0.492</text>\r\n",
       "<text text-anchor=\"start\" x=\"182\" y=\"-198.3\" font-family=\"Times New Roman,serif\" font-size=\"14.00\">samples = 31.4%</text>\r\n",
       "<text text-anchor=\"start\" x=\"169\" y=\"-183.3\" font-family=\"Times New Roman,serif\" font-size=\"14.00\">value = [0.563, 0.437]</text>\r\n",
       "</g>\r\n",
       "<!-- 0&#45;&gt;1 -->\r\n",
       "<g id=\"edge1\" class=\"edge\"><title>0&#45;&gt;1</title>\r\n",
       "<path fill=\"none\" stroke=\"black\" d=\"M125.312,-184.991C133.751,-187.583 142.503,-190.272 151.186,-192.94\"/>\r\n",
       "<polygon fill=\"black\" stroke=\"black\" points=\"150.354,-196.345 160.941,-195.937 152.409,-189.654 150.354,-196.345\"/>\r\n",
       "<text text-anchor=\"middle\" x=\"138.851\" y=\"-203.943\" font-family=\"Times New Roman,serif\" font-size=\"14.00\">True</text>\r\n",
       "</g>\r\n",
       "<!-- 4 -->\r\n",
       "<g id=\"node5\" class=\"node\"><title>4</title>\r\n",
       "<polygon fill=\"#e58139\" fill-opacity=\"0.858824\" stroke=\"black\" points=\"300,-157.5 161,-157.5 161,-74.5 300,-74.5 300,-157.5\"/>\r\n",
       "<text text-anchor=\"start\" x=\"207.5\" y=\"-142.3\" font-family=\"Times New Roman,serif\" font-size=\"14.00\">node #4</text>\r\n",
       "<text text-anchor=\"start\" x=\"201.5\" y=\"-127.3\" font-family=\"Times New Roman,serif\" font-size=\"14.00\">age ≤ 24.5</text>\r\n",
       "<text text-anchor=\"start\" x=\"197\" y=\"-112.3\" font-family=\"Times New Roman,serif\" font-size=\"14.00\">gini = 0.218</text>\r\n",
       "<text text-anchor=\"start\" x=\"182\" y=\"-97.3\" font-family=\"Times New Roman,serif\" font-size=\"14.00\">samples = 68.6%</text>\r\n",
       "<text text-anchor=\"start\" x=\"169\" y=\"-82.3\" font-family=\"Times New Roman,serif\" font-size=\"14.00\">value = [0.876, 0.124]</text>\r\n",
       "</g>\r\n",
       "<!-- 0&#45;&gt;4 -->\r\n",
       "<g id=\"edge4\" class=\"edge\"><title>0&#45;&gt;4</title>\r\n",
       "<path fill=\"none\" stroke=\"black\" d=\"M125.312,-147.382C133.751,-144.84 142.503,-142.204 151.186,-139.588\"/>\r\n",
       "<polygon fill=\"black\" stroke=\"black\" points=\"152.375,-142.886 160.941,-136.65 150.356,-136.183 152.375,-142.886\"/>\r\n",
       "<text text-anchor=\"middle\" x=\"138.916\" y=\"-121.122\" font-family=\"Times New Roman,serif\" font-size=\"14.00\">False</text>\r\n",
       "</g>\r\n",
       "<!-- 2 -->\r\n",
       "<g id=\"node3\" class=\"node\"><title>2</title>\r\n",
       "<polygon fill=\"#399de5\" fill-opacity=\"0.090196\" stroke=\"black\" points=\"475,-330 336,-330 336,-262 475,-262 475,-330\"/>\r\n",
       "<text text-anchor=\"start\" x=\"382.5\" y=\"-314.8\" font-family=\"Times New Roman,serif\" font-size=\"14.00\">node #2</text>\r\n",
       "<text text-anchor=\"start\" x=\"372\" y=\"-299.8\" font-family=\"Times New Roman,serif\" font-size=\"14.00\">gini = 0.499</text>\r\n",
       "<text text-anchor=\"start\" x=\"357\" y=\"-284.8\" font-family=\"Times New Roman,serif\" font-size=\"14.00\">samples = 16.9%</text>\r\n",
       "<text text-anchor=\"start\" x=\"344\" y=\"-269.8\" font-family=\"Times New Roman,serif\" font-size=\"14.00\">value = [0.477, 0.523]</text>\r\n",
       "</g>\r\n",
       "<!-- 1&#45;&gt;2 -->\r\n",
       "<g id=\"edge2\" class=\"edge\"><title>1&#45;&gt;2</title>\r\n",
       "<path fill=\"none\" stroke=\"black\" d=\"M300.371,-248.45C309.043,-252.41 317.962,-256.483 326.758,-260.499\"/>\r\n",
       "<polygon fill=\"black\" stroke=\"black\" points=\"325.315,-263.688 335.866,-264.658 328.223,-257.321 325.315,-263.688\"/>\r\n",
       "</g>\r\n",
       "<!-- 3 -->\r\n",
       "<g id=\"node4\" class=\"node\"><title>3</title>\r\n",
       "<polygon fill=\"#e58139\" fill-opacity=\"0.576471\" stroke=\"black\" points=\"475,-244 336,-244 336,-176 475,-176 475,-244\"/>\r\n",
       "<text text-anchor=\"start\" x=\"382.5\" y=\"-228.8\" font-family=\"Times New Roman,serif\" font-size=\"14.00\">node #3</text>\r\n",
       "<text text-anchor=\"start\" x=\"372\" y=\"-213.8\" font-family=\"Times New Roman,serif\" font-size=\"14.00\">gini = 0.419</text>\r\n",
       "<text text-anchor=\"start\" x=\"357\" y=\"-198.8\" font-family=\"Times New Roman,serif\" font-size=\"14.00\">samples = 14.5%</text>\r\n",
       "<text text-anchor=\"start\" x=\"344\" y=\"-183.8\" font-family=\"Times New Roman,serif\" font-size=\"14.00\">value = [0.702, 0.298]</text>\r\n",
       "</g>\r\n",
       "<!-- 1&#45;&gt;3 -->\r\n",
       "<g id=\"edge3\" class=\"edge\"><title>1&#45;&gt;3</title>\r\n",
       "<path fill=\"none\" stroke=\"black\" d=\"M300.371,-214.213C308.678,-213.877 317.211,-213.532 325.647,-213.191\"/>\r\n",
       "<polygon fill=\"black\" stroke=\"black\" points=\"326.015,-216.679 335.866,-212.777 325.732,-209.684 326.015,-216.679\"/>\r\n",
       "</g>\r\n",
       "<!-- 5 -->\r\n",
       "<g id=\"node6\" class=\"node\"><title>5</title>\r\n",
       "<polygon fill=\"#e58139\" fill-opacity=\"0.745098\" stroke=\"black\" points=\"475,-154 336,-154 336,-86 475,-86 475,-154\"/>\r\n",
       "<text text-anchor=\"start\" x=\"382.5\" y=\"-138.8\" font-family=\"Times New Roman,serif\" font-size=\"14.00\">node #5</text>\r\n",
       "<text text-anchor=\"start\" x=\"372\" y=\"-123.8\" font-family=\"Times New Roman,serif\" font-size=\"14.00\">gini = 0.322</text>\r\n",
       "<text text-anchor=\"start\" x=\"357\" y=\"-108.8\" font-family=\"Times New Roman,serif\" font-size=\"14.00\">samples = 18.0%</text>\r\n",
       "<text text-anchor=\"start\" x=\"344\" y=\"-93.8\" font-family=\"Times New Roman,serif\" font-size=\"14.00\">value = [0.798, 0.202]</text>\r\n",
       "</g>\r\n",
       "<!-- 4&#45;&gt;5 -->\r\n",
       "<g id=\"edge5\" class=\"edge\"><title>4&#45;&gt;5</title>\r\n",
       "<path fill=\"none\" stroke=\"black\" d=\"M300.371,-117.592C308.678,-117.784 317.211,-117.982 325.647,-118.177\"/>\r\n",
       "<polygon fill=\"black\" stroke=\"black\" points=\"325.787,-121.681 335.866,-118.413 325.949,-114.683 325.787,-121.681\"/>\r\n",
       "</g>\r\n",
       "<!-- 6 -->\r\n",
       "<g id=\"node7\" class=\"node\"><title>6</title>\r\n",
       "<polygon fill=\"#e58139\" fill-opacity=\"0.898039\" stroke=\"black\" points=\"475,-68 336,-68 336,-0 475,-0 475,-68\"/>\r\n",
       "<text text-anchor=\"start\" x=\"382.5\" y=\"-52.8\" font-family=\"Times New Roman,serif\" font-size=\"14.00\">node #6</text>\r\n",
       "<text text-anchor=\"start\" x=\"372\" y=\"-37.8\" font-family=\"Times New Roman,serif\" font-size=\"14.00\">gini = 0.169</text>\r\n",
       "<text text-anchor=\"start\" x=\"357\" y=\"-22.8\" font-family=\"Times New Roman,serif\" font-size=\"14.00\">samples = 50.6%</text>\r\n",
       "<text text-anchor=\"start\" x=\"344\" y=\"-7.8\" font-family=\"Times New Roman,serif\" font-size=\"14.00\">value = [0.907, 0.093]</text>\r\n",
       "</g>\r\n",
       "<!-- 4&#45;&gt;6 -->\r\n",
       "<g id=\"edge6\" class=\"edge\"><title>4&#45;&gt;6</title>\r\n",
       "<path fill=\"none\" stroke=\"black\" d=\"M300.371,-83.3558C309.043,-79.2455 317.962,-75.0181 326.758,-70.8486\"/>\r\n",
       "<polygon fill=\"black\" stroke=\"black\" points=\"328.328,-73.9777 335.866,-66.5319 325.33,-67.6523 328.328,-73.9777\"/>\r\n",
       "</g>\r\n",
       "</g>\r\n",
       "</svg>\r\n"
      ],
      "text/plain": [
       "<graphviz.files.Source at 0x24f0de4f208>"
      ]
     },
     "execution_count": 52,
     "metadata": {},
     "output_type": "execute_result"
    }
   ],
   "source": [
    "#conda remove graphviz \n",
    "#conda install python-graphviz\n",
    "#graphviz.Source(dot_graph).view()\n",
    "\n",
    "\n",
    "import graphviz\n",
    "from sklearn.tree import DecisionTreeClassifier\n",
    "from sklearn.tree import export_graphviz\n",
    "from graphviz import Source\n",
    "  \n",
    "tree = DecisionTreeClassifier( max_depth=2,class_weight={0:1, 1:10}, min_impurity_decrease = 0.001)\n",
    "tree.fit(train.drop(['converted'], axis=1), train['converted'])\n",
    "  \n",
    "#visualize it\n",
    "#export_graphviz(tree, out_file=\"tree_conversion.dot\", feature_names=train.drop(['converted'], axis=1).columns, proportion=True, rotate=True)\n",
    "###with open(\"tree_conversion.dot\") as f:\n",
    "###    dot_graph = f.read()\n",
    "  \n",
    "###s = Source.from_file(\"tree_conversion.dot\")\n",
    "###s.view()\n",
    "\n",
    "\n",
    "trained_tree1 = export_graphviz(tree,\n",
    "                                     out_file=None,\n",
    "                                     feature_names=train.drop(['converted'], axis=1).columns,\n",
    "                                     filled=True,\n",
    "                                     node_ids=True,\n",
    "                                     proportion=True,\n",
    "                                     rotate=True,\n",
    "                                     special_characters=True)\n",
    "\n",
    "tree_viz1 = graphviz.Source(trained_tree1, format='png')\n",
    "tree_viz1"
   ]
  },
  {
   "cell_type": "code",
   "execution_count": null,
   "metadata": {},
   "outputs": [],
   "source": [
    "# Decision tree explains the randomforest findings\n"
   ]
  }
 ],
 "metadata": {
  "kernelspec": {
   "display_name": "Python 3",
   "language": "python",
   "name": "python3"
  },
  "language_info": {
   "codemirror_mode": {
    "name": "ipython",
    "version": 3
   },
   "file_extension": ".py",
   "mimetype": "text/x-python",
   "name": "python",
   "nbconvert_exporter": "python",
   "pygments_lexer": "ipython3",
   "version": "3.7.1"
  }
 },
 "nbformat": 4,
 "nbformat_minor": 2
}
